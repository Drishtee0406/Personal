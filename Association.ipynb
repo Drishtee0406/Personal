{
 "cells": [
  {
   "cell_type": "code",
   "execution_count": 1,
   "metadata": {},
   "outputs": [],
   "source": [
    "import pandas as pd\n",
    "from itertools import combinations"
   ]
  },
  {
   "cell_type": "code",
   "execution_count": 2,
   "metadata": {},
   "outputs": [],
   "source": [
    "data = {\n",
    "\n",
    "    'TransactionID': [1, 2, 3, 4, 5]\n",
    "\n",
    "    ,'ItemsPurchased': ['Bread,Butter,Milk','Bread,Diaper,Beer,Milk','Milk,Diaper,Beer','Bread,Butter','Bread,Butter,Diaper,Milk']\n",
    "\n",
    "}"
   ]
  },
  {
   "cell_type": "code",
   "execution_count": 3,
   "metadata": {},
   "outputs": [],
   "source": [
    "df = pd.DataFrame(data)"
   ]
  },
  {
   "cell_type": "code",
   "execution_count": 4,
   "metadata": {},
   "outputs": [
    {
     "data": {
      "text/html": [
       "<div>\n",
       "<style scoped>\n",
       "    .dataframe tbody tr th:only-of-type {\n",
       "        vertical-align: middle;\n",
       "    }\n",
       "\n",
       "    .dataframe tbody tr th {\n",
       "        vertical-align: top;\n",
       "    }\n",
       "\n",
       "    .dataframe thead th {\n",
       "        text-align: right;\n",
       "    }\n",
       "</style>\n",
       "<table border=\"1\" class=\"dataframe\">\n",
       "  <thead>\n",
       "    <tr style=\"text-align: right;\">\n",
       "      <th></th>\n",
       "      <th>TransactionID</th>\n",
       "      <th>ItemsPurchased</th>\n",
       "    </tr>\n",
       "  </thead>\n",
       "  <tbody>\n",
       "    <tr>\n",
       "      <th>0</th>\n",
       "      <td>1</td>\n",
       "      <td>Bread,Butter,Milk</td>\n",
       "    </tr>\n",
       "    <tr>\n",
       "      <th>1</th>\n",
       "      <td>2</td>\n",
       "      <td>Bread,Diaper,Beer,Milk</td>\n",
       "    </tr>\n",
       "    <tr>\n",
       "      <th>2</th>\n",
       "      <td>3</td>\n",
       "      <td>Milk,Diaper,Beer</td>\n",
       "    </tr>\n",
       "    <tr>\n",
       "      <th>3</th>\n",
       "      <td>4</td>\n",
       "      <td>Bread,Butter</td>\n",
       "    </tr>\n",
       "    <tr>\n",
       "      <th>4</th>\n",
       "      <td>5</td>\n",
       "      <td>Bread,Butter,Diaper,Milk</td>\n",
       "    </tr>\n",
       "  </tbody>\n",
       "</table>\n",
       "</div>"
      ],
      "text/plain": [
       "   TransactionID            ItemsPurchased\n",
       "0              1         Bread,Butter,Milk\n",
       "1              2    Bread,Diaper,Beer,Milk\n",
       "2              3          Milk,Diaper,Beer\n",
       "3              4              Bread,Butter\n",
       "4              5  Bread,Butter,Diaper,Milk"
      ]
     },
     "execution_count": 4,
     "metadata": {},
     "output_type": "execute_result"
    }
   ],
   "source": [
    "df.head()"
   ]
  },
  {
   "cell_type": "code",
   "execution_count": 5,
   "metadata": {},
   "outputs": [],
   "source": [
    "all_words_rows = df['ItemsPurchased'].tolist()"
   ]
  },
  {
   "cell_type": "code",
   "execution_count": 6,
   "metadata": {},
   "outputs": [],
   "source": [
    "all_word = set()\n",
    "for transaction in all_words_rows:\n",
    "    all_word.update(transaction.split(','))"
   ]
  },
  {
   "cell_type": "code",
   "execution_count": 7,
   "metadata": {},
   "outputs": [],
   "source": [
    "df['ItemsPurchased'] = df['ItemsPurchased'].apply(lambda x : x.split(','))"
   ]
  },
  {
   "cell_type": "code",
   "execution_count": 8,
   "metadata": {},
   "outputs": [
    {
     "name": "stdout",
     "output_type": "stream",
     "text": [
      "[['Bread', 'Butter', 'Milk'], ['Bread', 'Diaper', 'Beer', 'Milk'], ['Milk', 'Diaper', 'Beer'], ['Bread', 'Butter'], ['Bread', 'Butter', 'Diaper', 'Milk']]\n"
     ]
    }
   ],
   "source": [
    "all_words_rows = df['ItemsPurchased'].tolist()\n",
    "print(all_words_rows)"
   ]
  },
  {
   "cell_type": "code",
   "execution_count": 9,
   "metadata": {},
   "outputs": [],
   "source": [
    "all_words = set()\n"
   ]
  },
  {
   "cell_type": "code",
   "execution_count": 10,
   "metadata": {},
   "outputs": [],
   "source": [
    "for i in all_words_rows:\n",
    "    for word in i:\n",
    "        all_words.add(word)\n",
    "\n"
   ]
  },
  {
   "cell_type": "code",
   "execution_count": 11,
   "metadata": {},
   "outputs": [
    {
     "data": {
      "text/plain": [
       "{'Beer', 'Bread', 'Butter', 'Diaper', 'Milk'}"
      ]
     },
     "execution_count": 11,
     "metadata": {},
     "output_type": "execute_result"
    }
   ],
   "source": [
    "all_words"
   ]
  },
  {
   "cell_type": "code",
   "execution_count": 12,
   "metadata": {},
   "outputs": [],
   "source": [
    "def generate_itemsets(all_words):\n",
    "\n",
    "    all_itemsets = set()\n",
    "    for x in  range(1, len(all_words)+1):\n",
    "        all_itemsets.update(combinations(all_words, x))\n",
    "    return(all_itemsets)"
   ]
  },
  {
   "cell_type": "code",
   "execution_count": 13,
   "metadata": {},
   "outputs": [],
   "source": [
    "all_itemset = generate_itemsets(all_words)"
   ]
  },
  {
   "cell_type": "code",
   "execution_count": 14,
   "metadata": {},
   "outputs": [],
   "source": [
    "example_itemset = ['Beer', 'Bread', 'Butter', 'Diaper']"
   ]
  },
  {
   "cell_type": "code",
   "execution_count": 34,
   "metadata": {},
   "outputs": [],
   "source": [
    "def generate_rules(item_set):\n",
    "    rules = []\n",
    "\n",
    "    itemset_length = len(item_set)\n",
    "    set_itemset = set(item_set)\n",
    "\n",
    "    for n in range(1, itemset_length):\n",
    "        for combo in combinations(set_itemset, n):\n",
    "            antecedent = set(combo)\n",
    "            consequent = set_itemset - antecedent\n",
    "            rules.append((antecedent, consequent, set_itemset))\n",
    "    return rules"
   ]
  },
  {
   "cell_type": "code",
   "execution_count": 16,
   "metadata": {},
   "outputs": [],
   "source": [
    "get_itemsets = generate_itemsets(all_words)"
   ]
  },
  {
   "cell_type": "code",
   "execution_count": 17,
   "metadata": {},
   "outputs": [],
   "source": [
    "binary_df = pd.DataFrame(columns=list(all_words))"
   ]
  },
  {
   "cell_type": "code",
   "execution_count": 18,
   "metadata": {},
   "outputs": [
    {
     "data": {
      "text/html": [
       "<div>\n",
       "<style scoped>\n",
       "    .dataframe tbody tr th:only-of-type {\n",
       "        vertical-align: middle;\n",
       "    }\n",
       "\n",
       "    .dataframe tbody tr th {\n",
       "        vertical-align: top;\n",
       "    }\n",
       "\n",
       "    .dataframe thead th {\n",
       "        text-align: right;\n",
       "    }\n",
       "</style>\n",
       "<table border=\"1\" class=\"dataframe\">\n",
       "  <thead>\n",
       "    <tr style=\"text-align: right;\">\n",
       "      <th></th>\n",
       "      <th>Beer</th>\n",
       "      <th>Bread</th>\n",
       "      <th>Milk</th>\n",
       "      <th>Diaper</th>\n",
       "      <th>Butter</th>\n",
       "    </tr>\n",
       "  </thead>\n",
       "  <tbody>\n",
       "  </tbody>\n",
       "</table>\n",
       "</div>"
      ],
      "text/plain": [
       "Empty DataFrame\n",
       "Columns: [Beer, Bread, Milk, Diaper, Butter]\n",
       "Index: []"
      ]
     },
     "execution_count": 18,
     "metadata": {},
     "output_type": "execute_result"
    }
   ],
   "source": [
    "binary_df.head()"
   ]
  },
  {
   "cell_type": "code",
   "execution_count": 19,
   "metadata": {},
   "outputs": [],
   "source": [
    "for idx, row in enumerate(all_words_rows):\n",
    "    for word in row:\n",
    "        binary_df.loc[idx, word] = 1"
   ]
  },
  {
   "cell_type": "code",
   "execution_count": 20,
   "metadata": {},
   "outputs": [
    {
     "data": {
      "text/html": [
       "<div>\n",
       "<style scoped>\n",
       "    .dataframe tbody tr th:only-of-type {\n",
       "        vertical-align: middle;\n",
       "    }\n",
       "\n",
       "    .dataframe tbody tr th {\n",
       "        vertical-align: top;\n",
       "    }\n",
       "\n",
       "    .dataframe thead th {\n",
       "        text-align: right;\n",
       "    }\n",
       "</style>\n",
       "<table border=\"1\" class=\"dataframe\">\n",
       "  <thead>\n",
       "    <tr style=\"text-align: right;\">\n",
       "      <th></th>\n",
       "      <th>Beer</th>\n",
       "      <th>Bread</th>\n",
       "      <th>Milk</th>\n",
       "      <th>Diaper</th>\n",
       "      <th>Butter</th>\n",
       "    </tr>\n",
       "  </thead>\n",
       "  <tbody>\n",
       "    <tr>\n",
       "      <th>0</th>\n",
       "      <td>NaN</td>\n",
       "      <td>1</td>\n",
       "      <td>1</td>\n",
       "      <td>NaN</td>\n",
       "      <td>1</td>\n",
       "    </tr>\n",
       "    <tr>\n",
       "      <th>1</th>\n",
       "      <td>1</td>\n",
       "      <td>1</td>\n",
       "      <td>1</td>\n",
       "      <td>1</td>\n",
       "      <td>NaN</td>\n",
       "    </tr>\n",
       "    <tr>\n",
       "      <th>2</th>\n",
       "      <td>1</td>\n",
       "      <td>NaN</td>\n",
       "      <td>1</td>\n",
       "      <td>1</td>\n",
       "      <td>NaN</td>\n",
       "    </tr>\n",
       "    <tr>\n",
       "      <th>3</th>\n",
       "      <td>NaN</td>\n",
       "      <td>1</td>\n",
       "      <td>NaN</td>\n",
       "      <td>NaN</td>\n",
       "      <td>1</td>\n",
       "    </tr>\n",
       "    <tr>\n",
       "      <th>4</th>\n",
       "      <td>NaN</td>\n",
       "      <td>1</td>\n",
       "      <td>1</td>\n",
       "      <td>1</td>\n",
       "      <td>1</td>\n",
       "    </tr>\n",
       "  </tbody>\n",
       "</table>\n",
       "</div>"
      ],
      "text/plain": [
       "  Beer Bread Milk Diaper Butter\n",
       "0  NaN     1    1    NaN      1\n",
       "1    1     1    1      1    NaN\n",
       "2    1   NaN    1      1    NaN\n",
       "3  NaN     1  NaN    NaN      1\n",
       "4  NaN     1    1      1      1"
      ]
     },
     "execution_count": 20,
     "metadata": {},
     "output_type": "execute_result"
    }
   ],
   "source": [
    "binary_df.head()"
   ]
  },
  {
   "cell_type": "code",
   "execution_count": 21,
   "metadata": {},
   "outputs": [],
   "source": [
    "binary_df = binary_df.map(lambda x : True if x == 1 else False)"
   ]
  },
  {
   "cell_type": "code",
   "execution_count": 22,
   "metadata": {},
   "outputs": [
    {
     "data": {
      "text/plain": [
       "Beer      bool\n",
       "Bread     bool\n",
       "Milk      bool\n",
       "Diaper    bool\n",
       "Butter    bool\n",
       "dtype: object"
      ]
     },
     "execution_count": 22,
     "metadata": {},
     "output_type": "execute_result"
    }
   ],
   "source": [
    "binary_df.dtypes"
   ]
  },
  {
   "cell_type": "code",
   "execution_count": 23,
   "metadata": {},
   "outputs": [],
   "source": [
    "all_rules = []\n",
    "\n",
    "for itemset in all_itemset:\n",
    "    all_rules.extend(generate_rules(itemset))"
   ]
  },
  {
   "cell_type": "code",
   "execution_count": 24,
   "metadata": {},
   "outputs": [],
   "source": [
    "support_dict = {}\n",
    "\n",
    "for row in all_itemset:\n",
    "    total_cols = len(row)\n",
    "    for idx in range(len(binary_df)):\n",
    "        if (binary_df.loc[idx, list(row)]).sum() == total_cols:\n",
    "            support_dict[row] = support_dict.get(row, 0) +1\n"
   ]
  },
  {
   "cell_type": "code",
   "execution_count": 25,
   "metadata": {},
   "outputs": [],
   "source": [
    "support_list = [(set(k), v / len(binary_df)) for k, v in support_dict.items()]"
   ]
  },
  {
   "cell_type": "code",
   "execution_count": 26,
   "metadata": {},
   "outputs": [
    {
     "data": {
      "text/plain": [
       "[({'Milk'}, 0.8),\n",
       " ({'Beer', 'Bread', 'Diaper'}, 0.2),\n",
       " ({'Butter'}, 0.6),\n",
       " ({'Beer', 'Diaper', 'Milk'}, 0.4),\n",
       " ({'Bread', 'Diaper', 'Milk'}, 0.4),\n",
       " ({'Beer', 'Bread'}, 0.2),\n",
       " ({'Beer', 'Bread', 'Milk'}, 0.2),\n",
       " ({'Bread', 'Butter', 'Diaper', 'Milk'}, 0.2),\n",
       " ({'Diaper'}, 0.6),\n",
       " ({'Bread', 'Diaper'}, 0.4),\n",
       " ({'Diaper', 'Milk'}, 0.6),\n",
       " ({'Bread', 'Butter', 'Diaper'}, 0.2),\n",
       " ({'Beer', 'Diaper'}, 0.4),\n",
       " ({'Beer', 'Bread', 'Diaper', 'Milk'}, 0.2),\n",
       " ({'Beer'}, 0.4),\n",
       " ({'Butter', 'Diaper', 'Milk'}, 0.2),\n",
       " ({'Butter', 'Diaper'}, 0.2),\n",
       " ({'Bread', 'Butter', 'Milk'}, 0.4),\n",
       " ({'Bread'}, 0.8),\n",
       " ({'Bread', 'Milk'}, 0.6),\n",
       " ({'Beer', 'Milk'}, 0.4),\n",
       " ({'Bread', 'Butter'}, 0.6),\n",
       " ({'Butter', 'Milk'}, 0.4)]"
      ]
     },
     "execution_count": 26,
     "metadata": {},
     "output_type": "execute_result"
    }
   ],
   "source": [
    "support_list"
   ]
  },
  {
   "cell_type": "code",
   "execution_count": 27,
   "metadata": {},
   "outputs": [],
   "source": [
    "col = ['antecedent', 'consequent', 'itemset']\n",
    "\n",
    "rules_df = pd.DataFrame(all_rules, columns=col)\n"
   ]
  },
  {
   "cell_type": "code",
   "execution_count": 28,
   "metadata": {},
   "outputs": [
    {
     "data": {
      "text/html": [
       "<div>\n",
       "<style scoped>\n",
       "    .dataframe tbody tr th:only-of-type {\n",
       "        vertical-align: middle;\n",
       "    }\n",
       "\n",
       "    .dataframe tbody tr th {\n",
       "        vertical-align: top;\n",
       "    }\n",
       "\n",
       "    .dataframe thead th {\n",
       "        text-align: right;\n",
       "    }\n",
       "</style>\n",
       "<table border=\"1\" class=\"dataframe\">\n",
       "  <thead>\n",
       "    <tr style=\"text-align: right;\">\n",
       "      <th></th>\n",
       "      <th>antecedent</th>\n",
       "      <th>consequent</th>\n",
       "      <th>itemset</th>\n",
       "    </tr>\n",
       "  </thead>\n",
       "  <tbody>\n",
       "    <tr>\n",
       "      <th>0</th>\n",
       "      <td>{Beer}</td>\n",
       "      <td>{Bread, Diaper}</td>\n",
       "      <td>{Beer, Bread, Diaper}</td>\n",
       "    </tr>\n",
       "    <tr>\n",
       "      <th>1</th>\n",
       "      <td>{Bread}</td>\n",
       "      <td>{Beer, Diaper}</td>\n",
       "      <td>{Beer, Bread, Diaper}</td>\n",
       "    </tr>\n",
       "    <tr>\n",
       "      <th>2</th>\n",
       "      <td>{Diaper}</td>\n",
       "      <td>{Beer, Bread}</td>\n",
       "      <td>{Beer, Bread, Diaper}</td>\n",
       "    </tr>\n",
       "    <tr>\n",
       "      <th>3</th>\n",
       "      <td>{Beer, Bread}</td>\n",
       "      <td>{Diaper}</td>\n",
       "      <td>{Beer, Bread, Diaper}</td>\n",
       "    </tr>\n",
       "    <tr>\n",
       "      <th>4</th>\n",
       "      <td>{Beer, Diaper}</td>\n",
       "      <td>{Bread}</td>\n",
       "      <td>{Beer, Bread, Diaper}</td>\n",
       "    </tr>\n",
       "    <tr>\n",
       "      <th>...</th>\n",
       "      <td>...</td>\n",
       "      <td>...</td>\n",
       "      <td>...</td>\n",
       "    </tr>\n",
       "    <tr>\n",
       "      <th>175</th>\n",
       "      <td>{Beer, Bread, Milk}</td>\n",
       "      <td>{Butter}</td>\n",
       "      <td>{Beer, Bread, Butter, Milk}</td>\n",
       "    </tr>\n",
       "    <tr>\n",
       "      <th>176</th>\n",
       "      <td>{Beer, Butter, Milk}</td>\n",
       "      <td>{Bread}</td>\n",
       "      <td>{Beer, Bread, Butter, Milk}</td>\n",
       "    </tr>\n",
       "    <tr>\n",
       "      <th>177</th>\n",
       "      <td>{Bread, Butter, Milk}</td>\n",
       "      <td>{Beer}</td>\n",
       "      <td>{Beer, Bread, Butter, Milk}</td>\n",
       "    </tr>\n",
       "    <tr>\n",
       "      <th>178</th>\n",
       "      <td>{Beer}</td>\n",
       "      <td>{Butter}</td>\n",
       "      <td>{Beer, Butter}</td>\n",
       "    </tr>\n",
       "    <tr>\n",
       "      <th>179</th>\n",
       "      <td>{Butter}</td>\n",
       "      <td>{Beer}</td>\n",
       "      <td>{Beer, Butter}</td>\n",
       "    </tr>\n",
       "  </tbody>\n",
       "</table>\n",
       "<p>180 rows × 3 columns</p>\n",
       "</div>"
      ],
      "text/plain": [
       "                antecedent       consequent                      itemset\n",
       "0                   {Beer}  {Bread, Diaper}        {Beer, Bread, Diaper}\n",
       "1                  {Bread}   {Beer, Diaper}        {Beer, Bread, Diaper}\n",
       "2                 {Diaper}    {Beer, Bread}        {Beer, Bread, Diaper}\n",
       "3            {Beer, Bread}         {Diaper}        {Beer, Bread, Diaper}\n",
       "4           {Beer, Diaper}          {Bread}        {Beer, Bread, Diaper}\n",
       "..                     ...              ...                          ...\n",
       "175    {Beer, Bread, Milk}         {Butter}  {Beer, Bread, Butter, Milk}\n",
       "176   {Beer, Butter, Milk}          {Bread}  {Beer, Bread, Butter, Milk}\n",
       "177  {Bread, Butter, Milk}           {Beer}  {Beer, Bread, Butter, Milk}\n",
       "178                 {Beer}         {Butter}               {Beer, Butter}\n",
       "179               {Butter}           {Beer}               {Beer, Butter}\n",
       "\n",
       "[180 rows x 3 columns]"
      ]
     },
     "execution_count": 28,
     "metadata": {},
     "output_type": "execute_result"
    }
   ],
   "source": [
    "rules_df"
   ]
  },
  {
   "cell_type": "code",
   "execution_count": 29,
   "metadata": {},
   "outputs": [],
   "source": [
    "def get_support_value(itemset):\n",
    "    for support_metric in support_list:\n",
    "        if support_metric[0] == itemset:\n",
    "            return support_metric[1]\n",
    "    \n",
    "    return 0"
   ]
  },
  {
   "cell_type": "code",
   "execution_count": 30,
   "metadata": {},
   "outputs": [],
   "source": [
    "rules_df['antecedent_support'] = rules_df['antecedent'].apply(get_support_value)\n",
    "rules_df['consequent_support'] = rules_df['consequent'].apply(get_support_value)\n",
    "rules_df['itemset_support'] = rules_df['itemset'].apply(get_support_value)"
   ]
  },
  {
   "cell_type": "markdown",
   "metadata": {},
   "source": [
    "### Confidence\n",
    "\n",
    "Support(A & B) / Support(A)\n"
   ]
  },
  {
   "cell_type": "code",
   "execution_count": 31,
   "metadata": {},
   "outputs": [],
   "source": [
    "rules_df['Confidence'] = rules_df['itemset_support'] / rules_df['antecedent_support']"
   ]
  },
  {
   "cell_type": "markdown",
   "metadata": {},
   "source": [
    "### Lift\n",
    "\n",
    "(Support(A & B) / Support(A)) / Support(B)\n"
   ]
  },
  {
   "cell_type": "code",
   "execution_count": 32,
   "metadata": {},
   "outputs": [],
   "source": [
    "rules_df['Lift'] = rules_df['Confidence'] / rules_df['consequent_support']"
   ]
  },
  {
   "cell_type": "code",
   "execution_count": 33,
   "metadata": {},
   "outputs": [
    {
     "data": {
      "text/html": [
       "<div>\n",
       "<style scoped>\n",
       "    .dataframe tbody tr th:only-of-type {\n",
       "        vertical-align: middle;\n",
       "    }\n",
       "\n",
       "    .dataframe tbody tr th {\n",
       "        vertical-align: top;\n",
       "    }\n",
       "\n",
       "    .dataframe thead th {\n",
       "        text-align: right;\n",
       "    }\n",
       "</style>\n",
       "<table border=\"1\" class=\"dataframe\">\n",
       "  <thead>\n",
       "    <tr style=\"text-align: right;\">\n",
       "      <th></th>\n",
       "      <th>antecedent</th>\n",
       "      <th>consequent</th>\n",
       "      <th>itemset</th>\n",
       "      <th>antecedent_support</th>\n",
       "      <th>consequent_support</th>\n",
       "      <th>itemset_support</th>\n",
       "      <th>Confidence</th>\n",
       "      <th>Lift</th>\n",
       "    </tr>\n",
       "  </thead>\n",
       "  <tbody>\n",
       "    <tr>\n",
       "      <th>0</th>\n",
       "      <td>{Beer}</td>\n",
       "      <td>{Bread, Diaper}</td>\n",
       "      <td>{Beer, Bread, Diaper}</td>\n",
       "      <td>0.4</td>\n",
       "      <td>0.4</td>\n",
       "      <td>0.2</td>\n",
       "      <td>0.500000</td>\n",
       "      <td>1.250000</td>\n",
       "    </tr>\n",
       "    <tr>\n",
       "      <th>1</th>\n",
       "      <td>{Bread}</td>\n",
       "      <td>{Beer, Diaper}</td>\n",
       "      <td>{Beer, Bread, Diaper}</td>\n",
       "      <td>0.8</td>\n",
       "      <td>0.4</td>\n",
       "      <td>0.2</td>\n",
       "      <td>0.250000</td>\n",
       "      <td>0.625000</td>\n",
       "    </tr>\n",
       "    <tr>\n",
       "      <th>2</th>\n",
       "      <td>{Diaper}</td>\n",
       "      <td>{Beer, Bread}</td>\n",
       "      <td>{Beer, Bread, Diaper}</td>\n",
       "      <td>0.6</td>\n",
       "      <td>0.2</td>\n",
       "      <td>0.2</td>\n",
       "      <td>0.333333</td>\n",
       "      <td>1.666667</td>\n",
       "    </tr>\n",
       "    <tr>\n",
       "      <th>3</th>\n",
       "      <td>{Beer, Bread}</td>\n",
       "      <td>{Diaper}</td>\n",
       "      <td>{Beer, Bread, Diaper}</td>\n",
       "      <td>0.2</td>\n",
       "      <td>0.6</td>\n",
       "      <td>0.2</td>\n",
       "      <td>1.000000</td>\n",
       "      <td>1.666667</td>\n",
       "    </tr>\n",
       "    <tr>\n",
       "      <th>4</th>\n",
       "      <td>{Beer, Diaper}</td>\n",
       "      <td>{Bread}</td>\n",
       "      <td>{Beer, Bread, Diaper}</td>\n",
       "      <td>0.4</td>\n",
       "      <td>0.8</td>\n",
       "      <td>0.2</td>\n",
       "      <td>0.500000</td>\n",
       "      <td>0.625000</td>\n",
       "    </tr>\n",
       "  </tbody>\n",
       "</table>\n",
       "</div>"
      ],
      "text/plain": [
       "       antecedent       consequent                itemset  antecedent_support  \\\n",
       "0          {Beer}  {Bread, Diaper}  {Beer, Bread, Diaper}                 0.4   \n",
       "1         {Bread}   {Beer, Diaper}  {Beer, Bread, Diaper}                 0.8   \n",
       "2        {Diaper}    {Beer, Bread}  {Beer, Bread, Diaper}                 0.6   \n",
       "3   {Beer, Bread}         {Diaper}  {Beer, Bread, Diaper}                 0.2   \n",
       "4  {Beer, Diaper}          {Bread}  {Beer, Bread, Diaper}                 0.4   \n",
       "\n",
       "   consequent_support  itemset_support  Confidence      Lift  \n",
       "0                 0.4              0.2    0.500000  1.250000  \n",
       "1                 0.4              0.2    0.250000  0.625000  \n",
       "2                 0.2              0.2    0.333333  1.666667  \n",
       "3                 0.6              0.2    1.000000  1.666667  \n",
       "4                 0.8              0.2    0.500000  0.625000  "
      ]
     },
     "execution_count": 33,
     "metadata": {},
     "output_type": "execute_result"
    }
   ],
   "source": [
    "rules_df.head()"
   ]
  }
 ],
 "metadata": {
  "kernelspec": {
   "display_name": "elephant3.12",
   "language": "python",
   "name": "python3"
  },
  "language_info": {
   "codemirror_mode": {
    "name": "ipython",
    "version": 3
   },
   "file_extension": ".py",
   "mimetype": "text/x-python",
   "name": "python",
   "nbconvert_exporter": "python",
   "pygments_lexer": "ipython3",
   "version": "3.12.8"
  }
 },
 "nbformat": 4,
 "nbformat_minor": 2
}
